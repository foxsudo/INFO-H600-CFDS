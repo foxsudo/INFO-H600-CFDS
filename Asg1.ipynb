{
 "cells": [
  {
   "cell_type": "code",
   "execution_count": 3,
   "id": "d8741c4e-84c1-4d3e-8f19-7c9cee8a6a56",
   "metadata": {},
   "outputs": [],
   "source": [
    "\n",
    "# Ex1\n",
    "\n",
    "def the_sequence(n):\n",
    "  \n",
    "    if n <= 0:\n",
    "        return []\n",
    "\n",
    "    seq = [\"1\"]\n",
    "    for _ in range(1, n):\n",
    "        prev = seq[-1]\n",
    "        next_term = \"\"\n",
    "        count = 1\n",
    "\n",
    "        # Read the previous term and describe it\n",
    "        for i in range(1, len(prev)):\n",
    "            if prev[i] == prev[i - 1]:\n",
    "                count += 1\n",
    "            else:\n",
    "                next_term += str(count) + prev[i - 1]\n",
    "                count = 1\n",
    "        next_term += str(count) + prev[-1]  # Add the last run\n",
    "        seq.append(next_term)\n",
    "\n",
    "    return seq"
   ]
  },
  {
   "cell_type": "code",
   "execution_count": 4,
   "id": "09ac4381-5f9b-46e7-a872-57bdd1c16648",
   "metadata": {},
   "outputs": [
    {
     "data": {
      "text/plain": [
       "['1', '11']"
      ]
     },
     "execution_count": 4,
     "metadata": {},
     "output_type": "execute_result"
    }
   ],
   "source": [
    "the_sequence(2)"
   ]
  },
  {
   "cell_type": "code",
   "execution_count": 5,
   "id": "f32f6f3a-f645-4da5-b6e6-6b70e3ca307c",
   "metadata": {},
   "outputs": [],
   "source": [
    "# Ex2\n",
    "\n",
    "def is_valid_sudoku(board):\n",
    "\n",
    "    def is_valid_group(values):\n",
    "        seen = set()\n",
    "        for val in values:\n",
    "            if val != '.':\n",
    "                if val in seen or val not in \"123456789\":\n",
    "                    return False\n",
    "                seen.add(val)\n",
    "        return True\n",
    "\n",
    "    # Check rows\n",
    "    for row in board:\n",
    "        if not is_valid_group(row):\n",
    "            return False\n",
    "\n",
    "    # Check columns\n",
    "    for c in range(9):\n",
    "        col = [board[r][c] for r in range(9)]\n",
    "        if not is_valid_group(col):\n",
    "            return False\n",
    "\n",
    "    # Check 3x3 sub-boxes\n",
    "    for box_row in range(0, 9, 3):\n",
    "        for box_col in range(0, 9, 3):\n",
    "            block = [\n",
    "                board[r][c]\n",
    "                for r in range(box_row, box_row + 3)\n",
    "                for c in range(box_col, box_col + 3)\n",
    "            ]\n",
    "            if not is_valid_group(block):\n",
    "                return False\n",
    "\n",
    "    return True\n",
    "    \n"
   ]
  },
  {
   "cell_type": "code",
   "execution_count": 6,
   "id": "592174bf-85a3-4a99-8fc6-991992c216dd",
   "metadata": {},
   "outputs": [],
   "source": [
    "# Ex3\n",
    "\n",
    "\n",
    "def is_valid_tictactoe(board):\n",
    "\n",
    "    # Count X's and O's\n",
    "    x_count = sum(row.count('X') for row in board)\n",
    "    o_count = sum(row.count('O') for row in board)\n",
    "\n",
    "    # X always goes first, so:\n",
    "    if not (x_count == o_count or x_count == o_count + 1):\n",
    "        return False\n",
    "\n",
    "    # Helper to detect a win\n",
    "    def win(player):\n",
    "        lines = []\n",
    "\n",
    "        # Rows and columns\n",
    "        for i in range(3):\n",
    "            lines.append([board[i][0], board[i][1], board[i][2]])  # row\n",
    "            lines.append([board[0][i], board[1][i], board[2][i]])  # column\n",
    "\n",
    "        # Diagonals\n",
    "        lines.append([board[0][0], board[1][1], board[2][2]])\n",
    "        lines.append([board[0][2], board[1][1], board[2][0]])\n",
    "\n",
    "        return any(all(cell == player for cell in line) for line in lines)\n",
    "\n",
    "    x_win = win('X')\n",
    "    o_win = win('O')\n",
    "\n",
    "    # Both players can't win\n",
    "    if x_win and o_win:\n",
    "        return False\n",
    "\n",
    "    # If X wins, X must have one more move than O\n",
    "    if x_win and x_count != o_count + 1:\n",
    "        return False\n",
    "\n",
    "    # If O wins, they must have equal moves\n",
    "    if o_win and x_count != o_count:\n",
    "        return False\n",
    "\n",
    "    return True\n"
   ]
  },
  {
   "cell_type": "code",
   "execution_count": 7,
   "id": "451ce691-a8f9-424e-a040-e249237c78be",
   "metadata": {},
   "outputs": [
    {
     "data": {
      "text/plain": [
       "False"
      ]
     },
     "execution_count": 7,
     "metadata": {},
     "output_type": "execute_result"
    }
   ],
   "source": [
    "is_valid_tictactoe([\"XOX\", \" X \", \"   \"])"
   ]
  },
  {
   "cell_type": "code",
   "execution_count": 8,
   "id": "0b957ed7-dfbb-45c6-a577-7055f8930d1b",
   "metadata": {},
   "outputs": [],
   "source": [
    "board = [\n",
    "    [\"5\", \"3\", \".\", \".\", \"7\", \".\", \".\", \".\", \".\"],\n",
    "    [\"6\", \".\", \".\", \"1\", \"9\", \"5\", \".\", \".\", \".\"],\n",
    "    [\".\", \"9\", \"8\", \".\", \".\", \".\", \".\", \"6\", \".\"],\n",
    "    [\"8\", \".\", \".\", \".\", \"6\", \".\", \".\", \".\", \"3\"],\n",
    "    [\"4\", \".\", \".\", \"8\", \".\", \"3\", \".\", \".\", \"1\"],\n",
    "    [\"7\", \".\", \".\", \".\", \"2\", \".\", \".\", \".\", \"6\"],\n",
    "    [\".\", \"6\", \".\", \".\", \".\", \".\", \"2\", \"8\", \".\"],\n",
    "    [\".\", \".\", \".\", \"4\", \"1\", \"9\", \".\", \".\", \"5\"],\n",
    "    [\".\", \".\", \".\", \".\", \"8\", \".\", \".\", \"7\", \"9\"]\n",
    "]"
   ]
  },
  {
   "cell_type": "code",
   "execution_count": 9,
   "id": "1c93fdd4-ed85-422c-bed0-8747a81337fd",
   "metadata": {},
   "outputs": [
    {
     "data": {
      "text/plain": [
       "True"
      ]
     },
     "execution_count": 9,
     "metadata": {},
     "output_type": "execute_result"
    }
   ],
   "source": [
    "is_valid_sudoku(board)"
   ]
  },
  {
   "cell_type": "code",
   "execution_count": null,
   "id": "2f20471b-72af-4d5d-9d62-43f4994a8632",
   "metadata": {},
   "outputs": [],
   "source": []
  }
 ],
 "metadata": {
  "kernelspec": {
   "display_name": "Python [conda env:base] *",
   "language": "python",
   "name": "conda-base-py"
  },
  "language_info": {
   "codemirror_mode": {
    "name": "ipython",
    "version": 3
   },
   "file_extension": ".py",
   "mimetype": "text/x-python",
   "name": "python",
   "nbconvert_exporter": "python",
   "pygments_lexer": "ipython3",
   "version": "3.12.7"
  }
 },
 "nbformat": 4,
 "nbformat_minor": 5
}
